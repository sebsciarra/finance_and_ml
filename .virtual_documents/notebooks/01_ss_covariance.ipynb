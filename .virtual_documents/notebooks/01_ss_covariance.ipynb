import os, sys, math

import numpy as np
import scipy as sp
import sklearn
import statsmodels.api as sm
from statsmodels.formula.api import ols

get_ipython().run_line_magic("load_ext", " autoreload")
get_ipython().run_line_magic("autoreload", " 2")

import pandas as pd
pd.set_option("display.max_rows", 120)
pd.set_option("display.max_columns", 120)



from finance_and_ml import *


R_1 = np.random.normal(loc=1.01, scale=0.03, size=100)
A_1 = np.cumprod(R_1)
