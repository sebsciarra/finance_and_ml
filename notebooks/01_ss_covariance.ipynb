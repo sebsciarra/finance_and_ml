{
 "cells": [
  {
   "cell_type": "code",
   "execution_count": 1,
   "metadata": {
    "tags": []
   },
   "outputs": [],
   "source": [
    "import os, sys, math\n",
    "\n",
    "import numpy as np\n",
    "import scipy as sp\n",
    "import sklearn\n",
    "import statsmodels.api as sm\n",
    "from statsmodels.formula.api import ols\n",
    "\n",
    "%load_ext autoreload\n",
    "%autoreload 2\n",
    "\n",
    "import pandas as pd\n",
    "pd.set_option(\"display.max_rows\", 120)\n",
    "pd.set_option(\"display.max_columns\", 120)\n"
   ]
  },
  {
   "cell_type": "code",
   "execution_count": null,
   "metadata": {},
   "outputs": [],
   "source": [
    "from finance_and_ml import *"
   ]
  },
  {
   "cell_type": "markdown",
   "metadata": {},
   "source": [
    "**PLEASE** save this file right now using the following naming convention: `NUMBER_FOR_SORTING-YOUR_INITIALS-SHORT_DESCRIPTION`, e.g. `1.0-fw-initial-data-exploration`. Use the number to order the file within the directory according to its usage."
   ]
  },
  {
   "cell_type": "markdown",
   "metadata": {},
   "source": [
    "# Chapter 2: How to calculate present values\n",
    "\n",
    "Although many definitions of value exist, we'll consider two definitions: \n",
    "\n",
    "1. *Present value*: the current value of an investment that accounts for any future growth in the target *t* time (accounting for interest over that time period). \n",
    "2. *\n",
    "\n",
    "\n",
    "In terms of present value, consider an asset valued at \\\\$150, $C_0$, that provides an annual return of \\(r = 7\\%\\). Over two years, this asset would be worth \n",
    "\n",
    "$$\n",
    "\\begin{align}\n",
    "C_1 &= C_0(1+r) \\\\ \n",
    "C_2 &= C_1(1+r) \\\\\n",
    "&= C_0(1+r)^2 = 150(1+.07)^2 = 171.735\n",
    "\\end{align}$$. \n",
    "\n",
    "More generally, the equation for future value is\n",
    "\n",
    "$$\n",
    "FV = C_0(1+r)^t. \n",
    "$$\n",
    "\n",
    "Although it is certainly useful to know the future value of an asset, investors often want to know the present value (PV) because it allows them to fairly value an investment by accounting for risk. Consider a startup asking for \\\\$4 million and stating that they will be worth \\\\$10 million in 7 years. Using a typical discount rate of 30% (for startups, discount rates are usually 20-50%), the asking price is an overvaluation. Mathematically, if we invested $4 million, we should expect the startup to be worth just over \\\\$25 million. \n",
    "\n",
    "$$\n",
    "\\begin{align}\n",
    "FV &= 4 000 000 (1 + .30)^2 \\\\ \n",
    "&= 25 099 406\n",
    "\\end{align}\n",
    "$$\n",
    "\n",
    "Given that a value of \\\\$25 million is impossible, then how much should we be willing to invest? This is where computing the present value comes in handy and basically plays the FV calculation in reverse. That is, if the startup will be worth \\\\$10 million in 7 years, then we should be willing to pay no more than \\\\$1 593 663. \n",
    "\n",
    "$$\n",
    "\\begin{align}\n",
    "PV &= 10 000 000/(1+.3)^7 \\\\\n",
    "&= 1 593 663\n",
    "\\end{align}\n",
    "$$\n",
    "\n",
    "By computing PV, an investor can account for risk of failure and also compare the \\\\$1.5 million investment to other investments. As a final modification, investors often speak of *net present value* to represent the difference between the amount paid for an asset and its PV. \n",
    "\n",
    "$$\n",
    "\\begin{align}\n",
    "NPV = C_0 + \\frac{C_1}{(1+r)^t}\n",
    "\\end{align}\n",
    "$$\n"
   ]
  },
  {
   "cell_type": "code",
   "execution_count": 4,
   "metadata": {
    "tags": []
   },
   "outputs": [
    {
     "data": {
      "text/plain": [
       "1593663.1617923332"
      ]
     },
     "execution_count": 4,
     "metadata": {},
     "output_type": "execute_result"
    }
   ],
   "source": [
    "1e7/(1.3**7)"
   ]
  },
  {
   "cell_type": "markdown",
   "metadata": {
    "jp-MarkdownHeadingCollapsed": true,
    "tags": []
   },
   "source": [
    "# Chapter 3: Valuing bonds \n",
    "\n",
    "Bonds are issued (usually by governments) when money is needed for the long term. "
   ]
  }
 ],
 "metadata": {
  "kernelspec": {
   "display_name": "ds_project",
   "language": "python",
   "name": "python3"
  },
  "language_info": {
   "codemirror_mode": {
    "name": "ipython",
    "version": 3
   },
   "file_extension": ".py",
   "mimetype": "text/x-python",
   "name": "python",
   "nbconvert_exporter": "python",
   "pygments_lexer": "ipython3",
   "version": "3.11.4"
  },
  "pycharm": {
   "stem_cell": {
    "cell_type": "raw",
    "metadata": {
     "collapsed": false
    },
    "source": []
   }
  }
 },
 "nbformat": 4,
 "nbformat_minor": 4
}
